{
 "cells": [
  {
   "cell_type": "code",
   "execution_count": 148,
   "metadata": {},
   "outputs": [],
   "source": [
    "import numpy as np\n",
    "import pandas as pd\n",
    "import matplotlib.pyplot as plt\n",
    "import gzip\n"
   ]
  },
  {
   "cell_type": "code",
   "execution_count": 149,
   "metadata": {},
   "outputs": [],
   "source": [
    "from keras import layers\n",
    "from keras.layers import Input, Dense, Activation, ZeroPadding2D, BatchNormalization, Flatten, Conv2D\n",
    "from keras.layers import AveragePooling2D, MaxPooling2D, Dropout, GlobalMaxPooling2D, GlobalAveragePooling2D\n",
    "from keras.utils import np_utils, print_summary\n",
    "from keras.models import Sequential"
   ]
  },
  {
   "cell_type": "code",
   "execution_count": 150,
   "metadata": {},
   "outputs": [],
   "source": [
    "def load_images(fileName, num_images):\n",
    "# f = gzip.open('C:/Users/vivek/Desktop/Alphabet_recognition/emnist-letters-train-images-idx3-ubyte.gz','r')\n",
    "    f = gzip.open(fileName,'r')\n",
    "    image_size = 28\n",
    "    num_images = num_images\n",
    "    f.read(16)\n",
    "    buf = f.read(image_size * image_size * num_images)\n",
    "    data = np.frombuffer(buf, dtype=np.uint8).astype(np.float32)\n",
    "# print(data.shape)\n",
    "#     data = data.reshape(num_images, image_size, image_size, 1)\n",
    "    return data"
   ]
  },
  {
   "cell_type": "code",
   "execution_count": 151,
   "metadata": {},
   "outputs": [],
   "source": [
    "def load_images_labels(fileName, num_images):\n",
    "# f = gzip.open('C:/Users/vivek/Desktop/Alphabet_recognition/emnist-letters-train-images-idx3-ubyte.gz','r')\n",
    "    f = gzip.open(fileName,'r')\n",
    "    image_size = 28\n",
    "    num_images = num_images\n",
    "    f.read(8)\n",
    "    buf = f.read(num_images)\n",
    "    data = np.frombuffer(buf, dtype=np.uint8).astype(np.float32)\n",
    "# print(data.shape)\n",
    "#     data = data.reshape(num_images, image_size, image_size, 1)\n",
    "    return data"
   ]
  },
  {
   "cell_type": "code",
   "execution_count": 152,
   "metadata": {},
   "outputs": [],
   "source": [
    "train_x = load_images('C:/Users/vivek/Desktop/Alphabet_recognition/emnist-letters-train-images-idx3-ubyte.gz', 60000)\n",
    "test_x = load_images('C:/Users/vivek/Desktop/Alphabet_recognition/emnist-letters-test-images-idx3-ubyte.gz', 10000)\n",
    "train_y = load_images_labels('C:/Users/vivek/Desktop/Alphabet_recognition/emnist-letters-train-labels-idx1-ubyte.gz', 60000)\n",
    "test_y = load_images_labels('C:/Users/vivek/Desktop/Alphabet_recognition/emnist-letters-test-labels-idx1-ubyte.gz', 10000)"
   ]
  },
  {
   "cell_type": "code",
   "execution_count": 153,
   "metadata": {},
   "outputs": [],
   "source": [
    "no_of_classes = 27"
   ]
  },
  {
   "cell_type": "code",
   "execution_count": 154,
   "metadata": {},
   "outputs": [],
   "source": [
    "Train_X = train_x.reshape(60000,28,28,1)\n",
    "Test_X = test_x.reshape(10000, 28,28,1)\n",
    "Train_Y = np_utils.to_categorical(train_y, num_classes = no_of_classes)\n",
    "Test_Y = np_utils.to_categorical(test_y, num_classes = no_of_classes)"
   ]
  },
  {
   "cell_type": "code",
   "execution_count": 155,
   "metadata": {},
   "outputs": [
    {
     "data": {
      "text/plain": [
       "array([0., 0., 0., 0., 0., 0., 0., 0., 0., 0., 0., 0., 0., 0., 0., 0., 0.,\n",
       "       0., 0., 0., 0., 0., 1., 0., 0., 0., 0.], dtype=float32)"
      ]
     },
     "execution_count": 155,
     "metadata": {},
     "output_type": "execute_result"
    }
   ],
   "source": [
    "Train_Y[8]"
   ]
  },
  {
   "cell_type": "code",
   "execution_count": null,
   "metadata": {},
   "outputs": [],
   "source": []
  },
  {
   "cell_type": "code",
   "execution_count": 156,
   "metadata": {},
   "outputs": [],
   "source": [
    "no_of_classes = len(Train_Y[0])"
   ]
  },
  {
   "cell_type": "code",
   "execution_count": 157,
   "metadata": {},
   "outputs": [
    {
     "name": "stdout",
     "output_type": "stream",
     "text": [
      "27\n"
     ]
    }
   ],
   "source": [
    "print(no_of_classes)"
   ]
  },
  {
   "cell_type": "code",
   "execution_count": 158,
   "metadata": {},
   "outputs": [
    {
     "data": {
      "image/png": "[encoded data removed]",
      "text/plain": [
       "<Figure size 432x288 with 1 Axes>"
      ]
     },
     "metadata": {
      "needs_background": "light"
     },
     "output_type": "display_data"
    }
   ],
   "source": [
    "image = np.asarray(Train_X[8]).squeeze()\n",
    "plt.imshow(image)\n",
    "plt.show()"
   ]
  },
  {
   "cell_type": "code",
   "execution_count": 159,
   "metadata": {},
   "outputs": [],
   "source": [
    "model= Sequential()\n"
   ]
  },
  {
   "cell_type": "code",
   "execution_count": 160,
   "metadata": {},
   "outputs": [
    {
     "name": "stdout",
     "output_type": "stream",
     "text": [
      "Model: \"sequential_9\"\n",
      "_________________________________________________________________\n",
      "Layer (type)                 Output Shape              Param #   \n",
      "=================================================================\n",
      "conv2d_28 (Conv2D)           (None, 24, 24, 32)        832       \n",
      "_________________________________________________________________\n",
      "max_pooling2d_17 (MaxPooling (None, 12, 12, 32)        0         \n",
      "_________________________________________________________________\n",
      "conv2d_29 (Conv2D)           (None, 8, 8, 64)          51264     \n",
      "_________________________________________________________________\n",
      "max_pooling2d_18 (MaxPooling (None, 4, 4, 64)          0         \n",
      "_________________________________________________________________\n",
      "flatten_5 (Flatten)          (None, 1024)              0         \n",
      "_________________________________________________________________\n",
      "dense_8 (Dense)              (None, 128)               131200    \n",
      "_________________________________________________________________\n",
      "dense_9 (Dense)              (None, 27)                3483      \n",
      "=================================================================\n",
      "Total params: 186,779\n",
      "Trainable params: 186,779\n",
      "Non-trainable params: 0\n",
      "_________________________________________________________________\n"
     ]
    }
   ],
   "source": [
    "model.add(Conv2D(32, (5,5), activation='relu', input_shape=(28,28,1)))\n",
    "model.add(MaxPooling2D(pool_size=(2,2), padding='same'))\n",
    "model.add(Conv2D(64,(5,5), activation='relu'))\n",
    "model.add(MaxPooling2D(pool_size=(2,2), padding='same'))\n",
    "# model.add(Conv2D(64,(5,5), activation='relu'))\n",
    "# model.add(MaxPooling2D(pool_size=(2,2), padding='same'))\n",
    "model.add(Flatten())\n",
    "model.add(Dense(128, activation='relu'))\n",
    "model.add(Dense(no_of_classes, activation='softmax'))\n",
    "model.compile(loss='categorical_crossentropy', optimizer='adam', metrics=['accuracy'] )\n",
    "model.summary()"
   ]
  },
  {
   "cell_type": "code",
   "execution_count": 161,
   "metadata": {},
   "outputs": [
    {
     "name": "stdout",
     "output_type": "stream",
     "text": [
      "Train on 60000 samples, validate on 10000 samples\n",
      "Epoch 1/50\n",
      "60000/60000 [==============================] - 5s 83us/step - loss: 1.0039 - accuracy: 0.7693 - val_loss: 0.4754 - val_accuracy: 0.8512\n",
      "Epoch 2/50\n",
      "60000/60000 [==============================] - 5s 80us/step - loss: 0.3237 - accuracy: 0.8946 - val_loss: 0.3719 - val_accuracy: 0.8760\n",
      "Epoch 3/50\n",
      "60000/60000 [==============================] - 5s 79us/step - loss: 0.2576 - accuracy: 0.9132 - val_loss: 0.3407 - val_accuracy: 0.8854\n",
      "Epoch 4/50\n",
      "60000/60000 [==============================] - 5s 78us/step - loss: 0.2270 - accuracy: 0.9216 - val_loss: 0.3395 - val_accuracy: 0.8872\n",
      "Epoch 5/50\n",
      "60000/60000 [==============================] - 5s 78us/step - loss: 0.2014 - accuracy: 0.9298 - val_loss: 0.3835 - val_accuracy: 0.8758\n",
      "Epoch 6/50\n",
      "60000/60000 [==============================] - 5s 79us/step - loss: 0.1844 - accuracy: 0.9353 - val_loss: 0.3738 - val_accuracy: 0.8859\n",
      "Epoch 7/50\n",
      "60000/60000 [==============================] - 5s 79us/step - loss: 0.1687 - accuracy: 0.9392 - val_loss: 0.3683 - val_accuracy: 0.8873\n",
      "Epoch 8/50\n",
      "60000/60000 [==============================] - 5s 86us/step - loss: 0.1536 - accuracy: 0.9433 - val_loss: 0.3899 - val_accuracy: 0.8854\n",
      "Epoch 9/50\n",
      "60000/60000 [==============================] - 5s 85us/step - loss: 0.1481 - accuracy: 0.9454 - val_loss: 0.3937 - val_accuracy: 0.8879\n",
      "Epoch 10/50\n",
      "60000/60000 [==============================] - 5s 84us/step - loss: 0.1388 - accuracy: 0.9478 - val_loss: 0.4599 - val_accuracy: 0.8772\n",
      "Epoch 11/50\n",
      "60000/60000 [==============================] - 5s 81us/step - loss: 0.1334 - accuracy: 0.9498 - val_loss: 0.4248 - val_accuracy: 0.8886\n",
      "Epoch 12/50\n",
      "60000/60000 [==============================] - 5s 79us/step - loss: 0.1233 - accuracy: 0.9545 - val_loss: 0.4697 - val_accuracy: 0.8820\n",
      "Epoch 13/50\n",
      "60000/60000 [==============================] - 5s 79us/step - loss: 0.1207 - accuracy: 0.9552 - val_loss: 0.4662 - val_accuracy: 0.8895\n",
      "Epoch 14/50\n",
      "60000/60000 [==============================] - 5s 81us/step - loss: 0.1100 - accuracy: 0.9578 - val_loss: 0.5082 - val_accuracy: 0.8888\n",
      "Epoch 15/50\n",
      "60000/60000 [==============================] - 5s 84us/step - loss: 0.1103 - accuracy: 0.9584 - val_loss: 0.5436 - val_accuracy: 0.8947\n",
      "Epoch 16/50\n",
      "60000/60000 [==============================] - 5s 86us/step - loss: 0.1048 - accuracy: 0.9602 - val_loss: 0.5065 - val_accuracy: 0.8946\n",
      "Epoch 17/50\n",
      "60000/60000 [==============================] - 5s 83us/step - loss: 0.1041 - accuracy: 0.9610 - val_loss: 0.6036 - val_accuracy: 0.8819\n",
      "Epoch 18/50\n",
      "60000/60000 [==============================] - 5s 80us/step - loss: 0.0963 - accuracy: 0.9636 - val_loss: 0.5449 - val_accuracy: 0.8965\n",
      "Epoch 19/50\n",
      "60000/60000 [==============================] - 5s 82us/step - loss: 0.1045 - accuracy: 0.9631 - val_loss: 0.6046 - val_accuracy: 0.8889\n",
      "Epoch 20/50\n",
      "60000/60000 [==============================] - 5s 83us/step - loss: 0.0933 - accuracy: 0.9661 - val_loss: 0.6573 - val_accuracy: 0.8834\n",
      "Epoch 21/50\n",
      "60000/60000 [==============================] - 5s 85us/step - loss: 0.0926 - accuracy: 0.9654 - val_loss: 0.6773 - val_accuracy: 0.8793\n",
      "Epoch 22/50\n",
      "60000/60000 [==============================] - 5s 81us/step - loss: 0.0902 - accuracy: 0.9667 - val_loss: 0.6543 - val_accuracy: 0.8898\n",
      "Epoch 23/50\n",
      "60000/60000 [==============================] - 5s 83us/step - loss: 0.0859 - accuracy: 0.9685 - val_loss: 0.6579 - val_accuracy: 0.8928\n",
      "Epoch 24/50\n",
      "60000/60000 [==============================] - 5s 83us/step - loss: 0.0910 - accuracy: 0.9669 - val_loss: 0.7215 - val_accuracy: 0.8853\n",
      "Epoch 25/50\n",
      "60000/60000 [==============================] - 5s 78us/step - loss: 0.0868 - accuracy: 0.9694 - val_loss: 0.7647 - val_accuracy: 0.8793\n",
      "Epoch 26/50\n",
      "60000/60000 [==============================] - 5s 79us/step - loss: 0.0863 - accuracy: 0.9693 - val_loss: 0.7810 - val_accuracy: 0.8884\n",
      "Epoch 27/50\n",
      "60000/60000 [==============================] - 5s 79us/step - loss: 0.0836 - accuracy: 0.9701 - val_loss: 0.8348 - val_accuracy: 0.8879\n",
      "Epoch 28/50\n",
      "60000/60000 [==============================] - 5s 77us/step - loss: 0.0827 - accuracy: 0.9714 - val_loss: 0.8002 - val_accuracy: 0.8900\n",
      "Epoch 29/50\n",
      "60000/60000 [==============================] - 5s 80us/step - loss: 0.0868 - accuracy: 0.9714 - val_loss: 0.9335 - val_accuracy: 0.8869\n",
      "Epoch 30/50\n",
      "60000/60000 [==============================] - 5s 79us/step - loss: 0.0865 - accuracy: 0.9719 - val_loss: 0.9209 - val_accuracy: 0.8885\n",
      "Epoch 31/50\n",
      "60000/60000 [==============================] - 5s 82us/step - loss: 0.0830 - accuracy: 0.9718 - val_loss: 0.9224 - val_accuracy: 0.8898\n",
      "Epoch 32/50\n",
      "60000/60000 [==============================] - 5s 79us/step - loss: 0.0760 - accuracy: 0.9731 - val_loss: 0.8936 - val_accuracy: 0.8939\n",
      "Epoch 33/50\n",
      "60000/60000 [==============================] - 5s 79us/step - loss: 0.1031 - accuracy: 0.9690 - val_loss: 0.9246 - val_accuracy: 0.8928\n",
      "Epoch 34/50\n",
      "60000/60000 [==============================] - 5s 79us/step - loss: 0.0686 - accuracy: 0.9758 - val_loss: 1.0927 - val_accuracy: 0.8877\n",
      "Epoch 35/50\n",
      "60000/60000 [==============================] - 5s 82us/step - loss: 0.0726 - accuracy: 0.9757 - val_loss: 1.0379 - val_accuracy: 0.8878\n",
      "Epoch 36/50\n",
      "60000/60000 [==============================] - 5s 78us/step - loss: 0.0866 - accuracy: 0.9730 - val_loss: 1.1662 - val_accuracy: 0.8762\n",
      "Epoch 37/50\n",
      "60000/60000 [==============================] - 5s 80us/step - loss: 0.0860 - accuracy: 0.9734 - val_loss: 0.9874 - val_accuracy: 0.8868\n",
      "Epoch 38/50\n",
      "60000/60000 [==============================] - 5s 91us/step - loss: 0.0733 - accuracy: 0.9761 - val_loss: 1.1202 - val_accuracy: 0.8875\n",
      "Epoch 39/50\n",
      "60000/60000 [==============================] - 5s 82us/step - loss: 0.0769 - accuracy: 0.9757 - val_loss: 1.1899 - val_accuracy: 0.8868\n",
      "Epoch 40/50\n",
      "60000/60000 [==============================] - 5s 81us/step - loss: 0.0896 - accuracy: 0.9745 - val_loss: 1.1388 - val_accuracy: 0.8856\n",
      "Epoch 41/50\n",
      "60000/60000 [==============================] - 5s 79us/step - loss: 0.0842 - accuracy: 0.9757 - val_loss: 1.2436 - val_accuracy: 0.8834\n",
      "Epoch 42/50\n",
      "60000/60000 [==============================] - 5s 78us/step - loss: 0.0688 - accuracy: 0.9777 - val_loss: 1.2078 - val_accuracy: 0.8838\n",
      "Epoch 43/50\n",
      "60000/60000 [==============================] - 5s 78us/step - loss: 0.0915 - accuracy: 0.9749 - val_loss: 1.3506 - val_accuracy: 0.8828\n",
      "Epoch 44/50\n",
      "60000/60000 [==============================] - 5s 81us/step - loss: 0.0804 - accuracy: 0.9767 - val_loss: 1.2934 - val_accuracy: 0.8878\n",
      "Epoch 45/50\n",
      "60000/60000 [==============================] - 5s 81us/step - loss: 0.0733 - accuracy: 0.9780 - val_loss: 1.3545 - val_accuracy: 0.8890\n",
      "Epoch 46/50\n",
      "60000/60000 [==============================] - 5s 80us/step - loss: 0.0970 - accuracy: 0.9747 - val_loss: 1.4668 - val_accuracy: 0.8862\n",
      "Epoch 47/50\n",
      "60000/60000 [==============================] - 5s 80us/step - loss: 0.0844 - accuracy: 0.9764 - val_loss: 1.4202 - val_accuracy: 0.8829\n",
      "Epoch 48/50\n",
      "60000/60000 [==============================] - 5s 80us/step - loss: 0.0731 - accuracy: 0.9791 - val_loss: 1.5233 - val_accuracy: 0.8820\n",
      "Epoch 49/50\n",
      "60000/60000 [==============================] - 5s 81us/step - loss: 0.0806 - accuracy: 0.9771 - val_loss: 1.5901 - val_accuracy: 0.8784\n",
      "Epoch 50/50\n",
      "60000/60000 [==============================] - 5s 80us/step - loss: 0.0877 - accuracy: 0.9772 - val_loss: 1.6924 - val_accuracy: 0.8808\n"
     ]
    },
    {
     "data": {
      "text/plain": [
       "<keras.callbacks.callbacks.History at 0x1afc31f4c88>"
      ]
     },
     "execution_count": 161,
     "metadata": {},
     "output_type": "execute_result"
    }
   ],
   "source": [
    "model.fit(Train_X, Train_Y,\n",
    "         batch_size=64,\n",
    "         validation_data = (Test_X, Test_Y),\n",
    "         epochs=50)"
   ]
  },
  {
   "cell_type": "code",
   "execution_count": 162,
   "metadata": {},
   "outputs": [],
   "source": [
    "fer_json = model.to_json()\n",
    "with open('model.json', 'w') as json_file:\n",
    "    json_file.write(fer_json)\n",
    "model.save_weights('weights.h5')"
   ]
  },
  {
   "cell_type": "code",
   "execution_count": null,
   "metadata": {},
   "outputs": [],
   "source": []
  }
 ],
 "metadata": {
  "kernelspec": {
   "display_name": "Python 3",
   "language": "python",
   "name": "python3"
  },
  "language_info": {
   "codemirror_mode": {
    "name": "ipython",
    "version": 3
   },
   "file_extension": ".py",
   "mimetype": "text/x-python",
   "name": "python",
   "nbconvert_exporter": "python",
   "pygments_lexer": "ipython3",
   "version": "3.7.5"
  }
 },
 "nbformat": 4,
 "nbformat_minor": 2
}
