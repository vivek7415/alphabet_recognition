{
 "cells": [
  {
   "cell_type": "code",
   "execution_count": 1,
   "metadata": {},
   "outputs": [
    {
     "name": "stderr",
     "output_type": "stream",
     "text": [
      "Using TensorFlow backend.\n"
     ]
    }
   ],
   "source": [
    "import numpy as np\n",
    "import cv2\n",
    "from collections import deque\n",
    "from keras.models import model_from_json\n",
    "from keras.preprocessing import image"
   ]
  },
  {
   "cell_type": "code",
   "execution_count": 2,
   "metadata": {},
   "outputs": [],
   "source": [
    "model = model_from_json(open('model.json','r').read())\n",
    "model.load_weights('weights.h5')"
   ]
  },
  {
   "cell_type": "code",
   "execution_count": 3,
   "metadata": {},
   "outputs": [],
   "source": [
    "letter_count = {0: 'CHECK', 1: 'a', 2: 'b', 3: 'c', 4: 'd', 5: 'e', 6: 'f', 7: 'g', 8: 'h', 9: 'i', 10: 'j',\n",
    "                    11: 'k',\n",
    "                    12: 'l', 13: 'm', 14: 'n', 15: 'o', 16: 'p', 17: 'q', 18: 'r', 19: 's', 20: 't', 21: 'u', 22: 'v',\n",
    "                    23: 'w',\n",
    "                    24: 'x', 25: 'y', 26: 'z', 27: 'CHECK'}\n"
   ]
  },
  {
   "cell_type": "code",
   "execution_count": 4,
   "metadata": {},
   "outputs": [],
   "source": [
    "def process_image(img):\n",
    "    image_x = 28\n",
    "    image_y = 28\n",
    "    img = cv2.resize(img, (image_x, image_y))\n",
    "    img = np.array(img, dtype=np.float32)\n",
    "    img = np.reshape(img, (-1, image_x, image_y, 1))\n",
    "    return img"
   ]
  },
  {
   "cell_type": "code",
   "execution_count": 5,
   "metadata": {},
   "outputs": [],
   "source": [
    "def predict_label(model, img):\n",
    "    processed = process_image(img)\n",
    "#     print(\"processed: \" + str(processed.shape))\n",
    "    pred_prob = model.predict(processed)[0]\n",
    "    pred_class = list(pred_prob).index(max(pred_prob))\n",
    "    return max(pred_prob), pred_class"
   ]
  },
  {
   "cell_type": "code",
   "execution_count": 8,
   "metadata": {},
   "outputs": [
    {
     "name": "stdout",
     "output_type": "stream",
     "text": [
      "1 1.0\n",
      "4 0.9988858\n",
      "24 1.0\n",
      "1 0.933176\n",
      "3 0.99999774\n",
      "17 1.0\n",
      "14 0.9999999\n",
      "18 1.0\n",
      "25 1.0\n",
      "9 0.779411\n",
      "10 0.99522865\n",
      "18 1.0\n",
      "5 1.0\n",
      "22 1.0\n",
      "6 1.0\n",
      "4 0.94057715\n",
      "16 0.99988425\n"
     ]
    }
   ],
   "source": [
    "cap = cv2.VideoCapture(0)\n",
    "Lower_green = np.array([110,50,50])\n",
    "Upper_green = np.array([130,255,255])\n",
    "\n",
    "pred_class = 0\n",
    "\n",
    "pts = deque(maxlen=512)\n",
    "blackboard = np.zeros((480,640,3), dtype=np.uint8)\n",
    "digit = np.zeros((200,200,3), dtype=np.uint8)\n",
    "\n",
    "while True:\n",
    "    ret, img = cap.read()\n",
    "    img = cv2.flip(img,1)\n",
    "    hsv_img = cv2.cvtColor(img, cv2.COLOR_BGR2HSV)\n",
    "    mask = cv2.inRange(hsv_img, Lower_green, Upper_green)\n",
    "    blur = cv2.medianBlur(mask, 15)\n",
    "    blur = cv2.GaussianBlur(blur, (5,5),0)\n",
    "    thresh = cv2.threshold(blur, 0,255,cv2.THRESH_BINARY + cv2.THRESH_OTSU)[1]\n",
    "    cnts = cv2.findContours(thresh.copy(), cv2.RETR_TREE, cv2.CHAIN_APPROX_NONE)[1]\n",
    "    center = None\n",
    "    \n",
    "    if len(cnts) >=1:\n",
    "        contour = max(cnts, key=cv2.contourArea)\n",
    "        if cv2.contourArea(contour) > 250:\n",
    "            ((x,y), radius) = cv2.minEnclosingCircle(contour)\n",
    "            cv2.circle(img, (int(x), int(y)), int(radius), (0,255,255), 2)\n",
    "            cv2.circle(img, center, 5,(0,0,255), -1)\n",
    "            \n",
    "            M = cv2.moments(contour)\n",
    "            center = (int(M['m10'] / M['m00']), int(M['m01'] / M['m00']))\n",
    "            pts.appendleft(center)\n",
    "            \n",
    "            for i in range (1, len(pts)):\n",
    "                if pts[i-1] is None or pts[i] is None:\n",
    "                    continue\n",
    "                cv2.line(blackboard, pts[i-1], pts[i], (255,255,255), 10)\n",
    "                cv2.line(img, pts[i-1], pts[i], (0,0,255),5)\n",
    "    elif len(cnts) ==0:\n",
    "        if len(pts) !=[]:\n",
    "            blackboard_gray = cv2.cvtColor(blackboard, cv2.COLOR_BGR2GRAY)\n",
    "            blur1 = cv2.medianBlur(blackboard_gray, 15)\n",
    "            blur1 = cv2.GaussianBlur(blur1, (5,5), 0)\n",
    "            thresh1 = cv2.threshold(blur1, 0, 255, cv2.THRESH_BINARY + cv2.THRESH_OTSU)[1]\n",
    "            blackboard_cnts = cv2.findContours(thresh1.copy(), cv2.RETR_TREE, cv2.CHAIN_APPROX_NONE)[1]\n",
    "            \n",
    "            if len(blackboard_cnts) >=1:\n",
    "                cnt = max(blackboard_cnts, key=cv2.contourArea)\n",
    "#                 print(cv2.contourArea(cnt))\n",
    "                \n",
    "                if cv2.contourArea(cnt) > 2000:\n",
    "                    x,y,w,h = cv2.boundingRect(cnt)\n",
    "                    digit = blackboard_gray[y:y+h, x:x+w].T\n",
    "                    pred_prob, pred_class = predict_label(model, digit)\n",
    "                    print(pred_class, pred_prob)\n",
    "                    \n",
    "        pts = deque(maxlen=512)\n",
    "        blackboard = np.zeros((480,640,3), dtype = np.uint8)\n",
    "    \n",
    "    cv2.putText(img, 'Conv Network : ' + str(letter_count[pred_class]), (10,470),\n",
    "               cv2.FONT_HERSHEY_COMPLEX, 0.7, (0,0,255), 2)\n",
    "    \n",
    "    cv2.imshow('Frame', img)\n",
    "    cv2.imshow('blackboard', blackboard)\n",
    "    cv2.imshow('Contours', thresh1)\n",
    "    k=cv2.waitKey(10)\n",
    "    if k == 27:\n",
    "        break\n",
    "        \n",
    "cap.release()\n",
    "cv2.destroyAllWindows()\n",
    "            \n",
    "            \n",
    "            \n",
    "            \n",
    "            "
   ]
  },
  {
   "cell_type": "code",
   "execution_count": null,
   "metadata": {},
   "outputs": [],
   "source": []
  },
  {
   "cell_type": "code",
   "execution_count": null,
   "metadata": {},
   "outputs": [],
   "source": []
  }
 ],
 "metadata": {
  "kernelspec": {
   "display_name": "Python 3",
   "language": "python",
   "name": "python3"
  },
  "language_info": {
   "codemirror_mode": {
    "name": "ipython",
    "version": 3
   },
   "file_extension": ".py",
   "mimetype": "text/x-python",
   "name": "python",
   "nbconvert_exporter": "python",
   "pygments_lexer": "ipython3",
   "version": "3.7.7"
  }
 },
 "nbformat": 4,
 "nbformat_minor": 2
}
